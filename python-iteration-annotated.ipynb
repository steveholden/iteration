{
 "cells": [
  {
   "cell_type": "markdown",
   "metadata": {
    "slideshow": {
     "slide_type": "slide"
    }
   },
   "source": [
    "# Iterables and Iterators\n",
    "### _or_\n",
    "\n",
    "\n",
    "\n",
    "\n",
    "# Round and Round the Mulberry Bush\n",
    "-\n",
    "\n",
    "\n",
    "### Steve Holden"
   ]
  },
  {
   "cell_type": "markdown",
   "metadata": {},
   "source": [
    "As a Python programmer you may have heard the terms _iterable_ and _iterator_ and wondered\n",
    "what the difference between them is.\n",
    "I started asking people that question in telephone interviews a while back, thinking\n",
    "that it was a good way to discriminate between more- and less-experienced Python users.\n",
    "Then I discovered that people I regard as extremely competent Pythonistas still\n",
    "had some confusion about the issue, so I wrote this to try and help clear up that confusion.\n",
    "\n",
    "The shortest way I can think of to describe the essentials of an iterable is \"something you\n",
    "can iterate over any number of times,\" whereas an iterator is \"something you can iterate\n",
    "over once.\" Many objects in Python are iterables - lists, dicts, strings, and so on.\n",
    "But iterables aren't iterators!\n",
    "\n",
    "The two are closely related: each time you iterate over an iterable, the interpreter\n",
    "actually creates a new iterator for the iteration, and loops over that.\n",
    "The mechanism is quite simple, and understandig the details helps you write\n",
    "better code.\n",
    "\n",
    "Let's begin by defining a simple function that can be used as a loop body, and\n",
    "a sample iterable (all Python containers are iterables - remember this if you\n",
    "have to write a container type)."
   ]
  },
  {
   "cell_type": "code",
   "execution_count": null,
   "metadata": {
    "slideshow": {
     "slide_type": "slide"
    }
   },
   "outputs": [],
   "source": [
    "def do_something_with(o):\n",
    "    \"Acts as a proxy for real work of any kind.\"\n",
    "    print(\"---\", o, \"---\")\n",
    "\n",
    "test_list = [\"Roberta\", \"Tom\", \"Alice\"]\n",
    "do_something_with(test_list)"
   ]
  },
  {
   "cell_type": "markdown",
   "metadata": {},
   "source": [
    "As you'd expect, if you iterate over an object you can do something with each item in that object."
   ]
  },
  {
   "cell_type": "code",
   "execution_count": null,
   "metadata": {
    "slideshow": {
     "slide_type": "fragment"
    }
   },
   "outputs": [],
   "source": [
    "for item in test_list:\n",
    "    do_something_with(item)"
   ]
  },
  {
   "cell_type": "markdown",
   "metadata": {
    "slideshow": {
     "slide_type": "slide"
    }
   },
   "source": [
    "## Iteration History"
   ]
  },
  {
   "cell_type": "markdown",
   "metadata": {},
   "source": [
    "### Back before you could iterate over dictionaries ... (v1.5.2?)\n",
    "\n",
    "It helps to remember that\n",
    "\n",
    "     a = x[s]\n",
    "\n",
    "is in Python merely a (very welcome and higly comprehensible) shorthand for\n",
    "\n",
    "    a = x.__getitem(s)\n",
    "\n",
    "Originally (well, certainly in Python 1.5), `for` loop iterations over an object `x` were quite simplistic.\n",
    "\n",
    "The interpeter would internally initialise a hidden integer variable to zero,\n",
    "then repeatedly index `x` using the hidden variable as an index\n",
    "(by calling `x`'s `__getitem__` method with the hidden variable as an argument).\n",
    "\n",
    "The hidden variable was incremented to produce successive values\n",
    "until the `__getitem__` call produced an `IndexError` exception,\n",
    "causing the loop to terminate normally.\n",
    "\n",
    "Internally, then, an iteration like\n",
    "\n",
    "    for i in test_list:\n",
    "        do_something_with(i)\n",
    "\n",
    "would be handled by something like the C equivalent of the following code.\n",
    "(This article is for Python users so it's in Python to explain the logic.\n",
    "Python is open source, so if you want to read the C source code of the actual interpreter you can)."
   ]
  },
  {
   "cell_type": "code",
   "execution_count": null,
   "metadata": {
    "slideshow": {
     "slide_type": "fragment"
    }
   },
   "outputs": [],
   "source": [
    "# How \"for i in test_list\" used to work (and still can)\n",
    "_private_var = 0\n",
    "while True:\n",
    "    try:\n",
    "        i = test_list.__getitem__(_private_var)\n",
    "    except IndexError:\n",
    "        break\n",
    "    do_something_with(i)\n",
    "    _private_var += 1       "
   ]
  },
  {
   "cell_type": "markdown",
   "metadata": {},
   "source": [
    "This was Python's original iteration protocol/.\n",
    "\n",
    "It was easy to understand, but worked only for objects that could be numerically subscripted, making it possible to iterate over tuples, lists, and other sequence types.\n",
    "\n",
    "To iterate over a dictionary, however, required you to extract a list of its keys and then iterate over that instead."
   ]
  },
  {
   "cell_type": "markdown",
   "metadata": {
    "slideshow": {
     "slide_type": "slide"
    }
   },
   "source": [
    "### Writing an _Old-Style_ Iterable"
   ]
  },
  {
   "cell_type": "markdown",
   "metadata": {},
   "source": [
    "Python's emphasis on backwards compatibility means that this protocol is still supported.\n",
    "\n",
    "You can verify this by writing your own class whose instances obey the old protocol."
   ]
  },
  {
   "cell_type": "code",
   "execution_count": null,
   "metadata": {
    "scrolled": true,
    "slideshow": {
     "slide_type": "fragment"
    }
   },
   "outputs": [],
   "source": [
    "class Stars():\n",
    "    \"Class with only __init__ and __getitem__.\"\n",
    "    def __init__(self, N):\n",
    "        self.N = N\n",
    "    def __getitem__(self, index):\n",
    "        if index >= self.N:\n",
    "            raise IndexError\n",
    "        print(\"Getting item:\", index)  # trace print\n",
    "        return \"*\" * index\n",
    "\n",
    "s = Stars(3)\n",
    "\n",
    "for v in s:\n",
    "    do_something_with(v)"
   ]
  },
  {
   "cell_type": "markdown",
   "metadata": {},
   "source": [
    "As you can see, even a modern interpreter is perfectly happy to iterate over your `Stars` instances,\n",
    "old-fashioned or not."
   ]
  },
  {
   "cell_type": "markdown",
   "metadata": {
    "slideshow": {
     "slide_type": "slide"
    }
   },
   "source": [
    "## Enter the _modern-day_ Iterable"
   ]
  },
  {
   "cell_type": "markdown",
   "metadata": {},
   "source": [
    "To overcome the limitations of this old protocol, and specifically to allow iteration\n",
    "over objects that can't be numerically indexed, a newer protocol was\n",
    "introduced and objects that obeyed it were classified as _iterable_.\n",
    "\n",
    "To use the new-style object (_i.e._ to be an an iterable) an object _must_ have an `__iter__` method.\n",
    "\n",
    "As the next cell shows, lists have been updated to use the new protocol."
   ]
  },
  {
   "cell_type": "code",
   "execution_count": null,
   "metadata": {
    "slideshow": {
     "slide_type": "fragment"
    }
   },
   "outputs": [],
   "source": [
    "for i in None:\n",
    "    do_something_with(i)"
   ]
  },
  {
   "cell_type": "markdown",
   "metadata": {
    "slideshow": {
     "slide_type": "fragment"
    }
   },
   "source": [
    "#### \"is not iterable?\""
   ]
  },
  {
   "cell_type": "markdown",
   "metadata": {
    "slideshow": {
     "slide_type": "slide"
    }
   },
   "source": [
    "## How does Python “Know” Something is Iterable??"
   ]
  },
  {
   "cell_type": "markdown",
   "metadata": {
    "slideshow": {
     "slide_type": "slide"
    }
   },
   "source": [
    "## What can we iterate over, but not subscript?"
   ]
  },
  {
   "cell_type": "markdown",
   "metadata": {},
   "source": [
    "Here we use a little Python trickery to determine the intersection of the available methods of a tuple (which can be subscripted) and a generator (which can't). Subtracting all the common methods leaves us with the suspect for this new iteration capability."
   ]
  },
  {
   "cell_type": "code",
   "execution_count": null,
   "metadata": {
    "slideshow": {
     "slide_type": "fragment"
    }
   },
   "outputs": [],
   "source": [
    "def g(): yield 42\n",
    "\n",
    "set(dir(g())) & set(dir(tuple())) - set(dir(object))"
   ]
  },
  {
   "cell_type": "markdown",
   "metadata": {
    "slideshow": {
     "slide_type": "slide"
    }
   },
   "source": [
    "## So What does `__iter__` do?"
   ]
  },
  {
   "cell_type": "markdown",
   "metadata": {},
   "source": [
    "A natural question is \"what type of object does the `__iter__` call return?\""
   ]
  },
  {
   "cell_type": "code",
   "execution_count": null,
   "metadata": {
    "slideshow": {
     "slide_type": "fragment"
    }
   },
   "outputs": [],
   "source": [
    "tli = test_list.__iter__()\n",
    "type(tli)"
   ]
  },
  {
   "cell_type": "markdown",
   "metadata": {
    "slideshow": {
     "slide_type": "fragment"
    }
   },
   "source": [
    "#### It returns an _iterator_ - in this case a list iterator\n",
    "\n",
    "For the newer-style iterables the `__iter__` method returns an _iterator_\n",
    "for use by this particular iteration. To execute the code\n",
    "\n",
    "    for i in test_list: # or some other iterable\n",
    "        do_something_with(i)\n",
    "\n",
    "the interpreter uses the iterator as shown in the next section."
   ]
  },
  {
   "cell_type": "markdown",
   "metadata": {
    "slideshow": {
     "slide_type": "fragment"
    }
   },
   "source": [
    "#### Coincidentally, this is why you can't iterate over `None`"
   ]
  },
  {
   "cell_type": "code",
   "execution_count": null,
   "metadata": {
    "scrolled": true,
    "slideshow": {
     "slide_type": "fragment"
    }
   },
   "outputs": [],
   "source": [
    "print(\"__iter__\" in dir(None), \"__getitem__\" in dir(None))"
   ]
  },
  {
   "cell_type": "markdown",
   "metadata": {
    "slideshow": {
     "slide_type": "slide"
    }
   },
   "source": [
    "## How Iteration works today (mostly)"
   ]
  },
  {
   "cell_type": "markdown",
   "metadata": {},
   "source": [
    "Originally, the interpreter made repeated calls to `__getitem__` until IndexError was raised, In the new protocol, the interpreter instead repeatedly calls an iterator's `__next__` method) until `StopIteration` is raised.\n",
    "\n",
    "This removes any reliance on numerical subscripting, allowing dictionaries and sets to become iterable (which they duly did in Python 2.4, if memory serves correctly).\n",
    "\n",
    "If the object has no `__iter__` method, the interpreter simply falls back to the old protocol. That's why the Stars class above (for which `__iter__` is not implemented), functions as expected.\n",
    "\n",
    "If there's no `__getitem__` method either, the interpreter just raises a TypeError exception, on the not unreasonable grounds that there's no way to iterate over the given value.\n",
    "\n",
    "Each time through the loop, the interpreter extracts the next value from the iterator\n",
    "by calling its `__next__` method.\n",
    "In the case below, the results of the `__next__` call are\n",
    "successively bound to `_i`, until `__next__` raises a `StopIteration` exception,\n",
    "which is used to terminate the loop normally - the exception is caught internally by\n",
    "the interpreter's `for` implementation, and not passed to the user's code.\n",
    "\n",
    "What actually happens is the equivalent of the following code, although no\n",
    "new variable is introduced into the Python namespace."
   ]
  },
  {
   "cell_type": "code",
   "execution_count": null,
   "metadata": {
    "slideshow": {
     "slide_type": "fragment"
    }
   },
   "outputs": [],
   "source": [
    "def iterate_over(something):\n",
    "    _i = something.__iter__()  # creates an iterator\n",
    "    while True:\n",
    "        try:\n",
    "            i = _i.__next__()\n",
    "        except StopIteration: # iterator is exhausted\n",
    "            break\n",
    "        do_something_with(i)"
   ]
  },
  {
   "cell_type": "code",
   "execution_count": null,
   "metadata": {
    "slideshow": {
     "slide_type": "fragment"
    }
   },
   "outputs": [],
   "source": [
    "iterate_over(test_list)"
   ]
  },
  {
   "cell_type": "markdown",
   "metadata": {
    "slideshow": {
     "slide_type": "subslide"
    }
   },
   "source": [
    "## If objects have no `__iter__` method ...\n",
    "###### ... Python still attempts to fall back to `__getitem__`"
   ]
  },
  {
   "cell_type": "code",
   "execution_count": null,
   "metadata": {
    "slideshow": {
     "slide_type": "fragment"
    }
   },
   "outputs": [],
   "source": [
    "hasattr(Stars, \"__iter__\")"
   ]
  },
  {
   "cell_type": "markdown",
   "metadata": {
    "slideshow": {
     "slide_type": "fragment"
    }
   },
   "source": [
    "Remember, Python was happy to iterate over a `Starts` object,"
   ]
  },
  {
   "cell_type": "markdown",
   "metadata": {
    "slideshow": {
     "slide_type": "slide"
    }
   },
   "source": [
    "## Recognizing Iterators and Iterables"
   ]
  },
  {
   "cell_type": "code",
   "execution_count": null,
   "metadata": {
    "slideshow": {
     "slide_type": "fragment"
    }
   },
   "outputs": [],
   "source": [
    "# Iterators have both __iter__ and __next__\n",
    "print(hasattr(tli, '__iter__'), hasattr(tli, '__next__'))"
   ]
  },
  {
   "cell_type": "markdown",
   "metadata": {},
   "source": [
    "The list iterator object's attributes verify that it is indeed an iterator,\n",
    "which is simply to say that it provides both the `__iter__` and `__next__`\n",
    "methods."
   ]
  },
  {
   "cell_type": "code",
   "execution_count": null,
   "metadata": {
    "slideshow": {
     "slide_type": "fragment"
    }
   },
   "outputs": [],
   "source": [
    "# Iterables only have __iter__ (or possibly __getitem__)\n",
    "print(hasattr(test_list, '__iter__'), hasattr(test_list, '__next__'))"
   ]
  },
  {
   "cell_type": "markdown",
   "metadata": {},
   "source": [
    "Note that the list itself, while it _is_ an iterable\n",
    "(_i.e._ it implements the `__iter__` method, which returns an iterator),\n",
    "is not itself an iterator because it has no `__next__` method."
   ]
  },
  {
   "cell_type": "markdown",
   "metadata": {
    "slideshow": {
     "slide_type": "slide"
    }
   },
   "source": [
    "## A Quick Piece of Shorthand"
   ]
  },
  {
   "cell_type": "markdown",
   "metadata": {
    "slideshow": {
     "slide_type": "fragment"
    }
   },
   "source": [
    "## _`iter(thing)`_\n",
    "## is the same as\n",
    "## _`thing.__iter__()`_"
   ]
  },
  {
   "cell_type": "markdown",
   "metadata": {
    "slideshow": {
     "slide_type": "fragment"
    }
   },
   "source": [
    "## This is the easy way to create an iterator from an iterable!"
   ]
  },
  {
   "cell_type": "markdown",
   "metadata": {},
   "source": [
    "The rest of the notebook is to encourage play!"
   ]
  },
  {
   "cell_type": "markdown",
   "metadata": {
    "slideshow": {
     "slide_type": "slide"
    }
   },
   "source": [
    "## Iterating over Iterables _vs_ Iterators"
   ]
  },
  {
   "cell_type": "code",
   "execution_count": null,
   "metadata": {
    "slideshow": {
     "slide_type": "fragment"
    }
   },
   "outputs": [],
   "source": [
    "# Create two distinct iterators\n",
    "iterator_1 = iter(test_list) # same as test_list.__iter__()\n",
    "iterator_2 = iter(test_list)\n",
    "print(id(iterator_1), id(iterator_2), sep=\"\\n\")\n",
    "print(iterator_1 is iterator_2)"
   ]
  },
  {
   "cell_type": "markdown",
   "metadata": {
    "slideshow": {
     "slide_type": "slide"
    }
   },
   "source": [
    "### Nested iterations over iterables"
   ]
  },
  {
   "cell_type": "code",
   "execution_count": null,
   "metadata": {
    "slideshow": {
     "slide_type": "fragment"
    }
   },
   "outputs": [],
   "source": [
    "for i in test_list:\n",
    "    for j in test_list:\n",
    "        do_something_with(f'{i} : {j}')"
   ]
  },
  {
   "cell_type": "markdown",
   "metadata": {
    "slideshow": {
     "slide_type": "slide"
    }
   },
   "source": [
    "### Nested iterations over two separate iterators"
   ]
  },
  {
   "cell_type": "code",
   "execution_count": null,
   "metadata": {
    "slideshow": {
     "slide_type": "fragment"
    }
   },
   "outputs": [],
   "source": [
    "iterator_1 = iter(test_list)\n",
    "iterator_2 = iter(test_list)\n",
    "for i in iterator_1:\n",
    "    print(\"outer loop\")\n",
    "    for j in iterator_2:\n",
    "        print(\"inner loop\")\n",
    "        do_something_with(i + \":\" + j)"
   ]
  },
  {
   "cell_type": "markdown",
   "metadata": {
    "slideshow": {
     "slide_type": "slide"
    }
   },
   "source": [
    "### Nested iterations over _the same_ iterator"
   ]
  },
  {
   "cell_type": "code",
   "execution_count": null,
   "metadata": {
    "slideshow": {
     "slide_type": "fragment"
    }
   },
   "outputs": [],
   "source": [
    "iterator_1 = iter(test_list)\n",
    "for i in iterator_1:\n",
    "    print(\"outer loop\")\n",
    "    for j in iterator_1:\n",
    "        print(\"inner loop\")\n",
    "        do_something_with(i + \":\" + j)"
   ]
  },
  {
   "cell_type": "markdown",
   "metadata": {
    "slideshow": {
     "slide_type": "slide"
    }
   },
   "source": [
    "### Using Iterators Doesn't Mean No Issues"
   ]
  },
  {
   "cell_type": "code",
   "execution_count": null,
   "metadata": {
    "slideshow": {
     "slide_type": "fragment"
    }
   },
   "outputs": [],
   "source": [
    "it_4 = iter([\"one\", \"two\", \"three\", \"four\"])\n",
    "it_5 = iter([\"five\", \"six\", \"seven\"])\n",
    "for iterator in it_4, it_5:\n",
    "    print(\"++ New iterator ++\")\n",
    "    for item_1 in iterator:\n",
    "        item_2 = next(iterator)\n",
    "        do_something_with(f'{item_1} : {item_2}')"
   ]
  },
  {
   "cell_type": "markdown",
   "metadata": {
    "slideshow": {
     "slide_type": "slide"
    }
   },
   "source": [
    "## Writing Your Own Iterators and Iterables"
   ]
  },
  {
   "cell_type": "code",
   "execution_count": null,
   "metadata": {
    "slideshow": {
     "slide_type": "fragment"
    }
   },
   "outputs": [],
   "source": [
    "def is_iterable(o):\n",
    "    \"Return True if o is an iterable.\"\n",
    "    return hasattr(o, \"__iter__\") and not hasattr(o, \"__next__\")\n",
    "\n",
    "def is_iterator(o):\n",
    "    \"Return True if o is an iterator.\"\n",
    "    return hasattr(o, \"__iter__\") and hasattr(o, \"__next__\")"
   ]
  },
  {
   "cell_type": "code",
   "execution_count": null,
   "metadata": {
    "slideshow": {
     "slide_type": "fragment"
    }
   },
   "outputs": [],
   "source": [
    "test_it = iter(test_list)\n",
    "print(is_iterable(test_list), is_iterator(test_list))\n",
    "print(is_iterable(test_it), is_iterator(test_it))"
   ]
  },
  {
   "cell_type": "markdown",
   "metadata": {
    "slideshow": {
     "slide_type": "slide"
    }
   },
   "source": [
    "### The Basic Iterator Pattern"
   ]
  },
  {
   "cell_type": "code",
   "execution_count": null,
   "metadata": {
    "slideshow": {
     "slide_type": "fragment"
    }
   },
   "outputs": [],
   "source": [
    "class MyIterator:\n",
    "    \"An iterator to produce each character of a string N times.\"\n",
    "    def __init__(self, s, N):\n",
    "        self.s = s\n",
    "        self.N =  N\n",
    "        self.pos = self.count = 0\n",
    "    def __iter__(self):\n",
    "        return self\n",
    "    def __next__(self):\n",
    "        if self.pos >= len(self.s):\n",
    "            raise StopIteration\n",
    "        result = self.s[self.pos]\n",
    "        self.count += 1\n",
    "        if self.count == self.N:\n",
    "            self.pos += 1\n",
    "            self.count = 0\n",
    "        return result"
   ]
  },
  {
   "cell_type": "code",
   "execution_count": null,
   "metadata": {
    "scrolled": true,
    "slideshow": {
     "slide_type": "slide"
    }
   },
   "outputs": [],
   "source": [
    "for s in MyIterator(\"abc\", 2):\n",
    "    do_something_with(s)"
   ]
  },
  {
   "cell_type": "code",
   "execution_count": null,
   "metadata": {
    "slideshow": {
     "slide_type": "fragment"
    }
   },
   "outputs": [],
   "source": [
    "it_6 = MyIterator(\"*+\", 3)\n",
    "it_7 = MyIterator(\"=-\", 3)\n",
    "for c1 in it_6:\n",
    "    print(\"iterating over c1:\", c1)\n",
    "    for c2 in it_7:\n",
    "        do_something_with(c1+\":\"+c2)"
   ]
  },
  {
   "cell_type": "markdown",
   "metadata": {
    "slideshow": {
     "slide_type": "slide"
    }
   },
   "source": [
    "## The Basic Iterable Pattern"
   ]
  },
  {
   "cell_type": "code",
   "execution_count": null,
   "metadata": {
    "slideshow": {
     "slide_type": "fragment"
    }
   },
   "outputs": [],
   "source": [
    "class MIString(str):\n",
    "    def __new__(cls, value, N):\n",
    "        return str.__new__(cls, value)\n",
    "    def __init__(self, value, N):\n",
    "        self.N = N\n",
    "    def __iter__(self):\n",
    "        return MyIterator(self, self.N)"
   ]
  },
  {
   "cell_type": "code",
   "execution_count": null,
   "metadata": {
    "slideshow": {
     "slide_type": "fragment"
    }
   },
   "outputs": [],
   "source": [
    "[s for s in MIString(\"xyz\", 3)]"
   ]
  },
  {
   "cell_type": "markdown",
   "metadata": {
    "slideshow": {
     "slide_type": "slide"
    }
   },
   "source": [
    "## A Short Example"
   ]
  },
  {
   "cell_type": "code",
   "execution_count": null,
   "metadata": {
    "slideshow": {
     "slide_type": "fragment"
    }
   },
   "outputs": [],
   "source": [
    "x = MIString(\"01\", 2)\n",
    "for c1 in x:\n",
    "    for c2 in x:\n",
    "        print(c1, c2)"
   ]
  },
  {
   "cell_type": "code",
   "execution_count": null,
   "metadata": {
    "slideshow": {
     "slide_type": "fragment"
    }
   },
   "outputs": [],
   "source": [
    "is_iterable(x), is_iterator(x), is_iterable(iter(x)), is_iterator(iter(x))"
   ]
  },
  {
   "cell_type": "code",
   "execution_count": null,
   "metadata": {
    "slideshow": {
     "slide_type": "slide"
    }
   },
   "outputs": [],
   "source": [
    "class MIString2(str):\n",
    "    def __new__(cls,value, N):\n",
    "        return str.__new__(cls, value)\n",
    "    def __init__(self, value, N):\n",
    "        self.N = N\n",
    "    def __iter__(self):\n",
    "        for c in str(self):\n",
    "            for i in range(self.N):\n",
    "                yield c"
   ]
  },
  {
   "cell_type": "code",
   "execution_count": null,
   "metadata": {
    "slideshow": {
     "slide_type": "fragment"
    }
   },
   "outputs": [],
   "source": [
    "[c for c in MIString2(\"abcde\", 3)]"
   ]
  },
  {
   "cell_type": "markdown",
   "metadata": {
    "slideshow": {
     "slide_type": "slide"
    }
   },
   "source": [
    "### Python Iterables"
   ]
  },
  {
   "cell_type": "code",
   "execution_count": null,
   "metadata": {
    "slideshow": {
     "slide_type": "fragment"
    }
   },
   "outputs": [],
   "source": [
    "is_iterable({}), is_iterable(()), is_iterable(set()), is_iterable(\"\")"
   ]
  },
  {
   "cell_type": "markdown",
   "metadata": {
    "slideshow": {
     "slide_type": "fragment"
    }
   },
   "source": [
    "## Any others?"
   ]
  }
 ],
 "metadata": {
  "kernelspec": {
   "display_name": "Python 3 (ipykernel)",
   "language": "python",
   "name": "python3"
  },
  "language_info": {
   "codemirror_mode": {
    "name": "ipython",
    "version": 3
   },
   "file_extension": ".py",
   "mimetype": "text/x-python",
   "name": "python",
   "nbconvert_exporter": "python",
   "pygments_lexer": "ipython3",
   "version": "3.7.12"
  }
 },
 "nbformat": 4,
 "nbformat_minor": 1
}
